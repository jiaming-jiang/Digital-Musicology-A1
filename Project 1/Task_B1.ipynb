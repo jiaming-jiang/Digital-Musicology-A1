{
 "cells": [
  {
   "cell_type": "code",
   "execution_count": 1,
   "metadata": {},
   "outputs": [],
   "source": [
    "import os\n",
    "import numpy as np\n",
    "import matplotlib.pyplot as plt\n",
    "from scipy.stats import ttest_ind"
   ]
  },
  {
   "cell_type": "markdown",
   "metadata": {
    "tags": []
   },
   "source": [
    "## Part A: Timing function"
   ]
  },
  {
   "cell_type": "code",
   "execution_count": 2,
   "metadata": {},
   "outputs": [],
   "source": [
    "def read_anno(file_path):\n",
    "    with open(file_path, 'r') as file:\n",
    "        # read the raw txt and parse the columns\n",
    "        lines = [[col for col in row.replace('\\n','').split('\\t')] for row in file.readlines()]\n",
    "        #parse the last col of the first row\n",
    "        # print(lines[0], lines[1])\n",
    "        lines[0][-1], time_sign, key_sign = lines[0][-1].split(',')\n",
    "        # print(time_sign, key_sign, lines[0], lines[1])\n",
    "        #separate columns\n",
    "        times1 = np.array([float(row[0]) for row in lines])\n",
    "        times2 = np.array([float(row[1]) for row in lines])\n",
    "        beats = np.array([1 if row[2] == 'db' else 0 for row in lines])\n",
    "        # print(times1, beats)\n",
    "        return times1, beats, time_sign, key_sign"
   ]
  },
  {
   "cell_type": "markdown",
   "metadata": {},
   "source": [
    "### Estimating the temporal scale and bias that maps performed and unperformed files"
   ]
  },
  {
   "cell_type": "code",
   "execution_count": 3,
   "metadata": {},
   "outputs": [],
   "source": [
    "def compute_w(x, y, add_bias):\n",
    "    # outputs a mapping between performed and unperformed files\n",
    "    # w * x + eps = y # eps ~ N(0,sigma)\n",
    "    # minimize_w w^2 * x^2 - 2 w * x.T @ y + y^2\n",
    "    # 2 w x^2 - 2 y.T x = 0\n",
    "    # w = pinv(x.T x) x.T y # pinv ~ pseudo inverse\n",
    "    if add_bias:\n",
    "        x = np.concatenate((x, np.ones((x.shape[0],1))), axis=1)\n",
    "    w = np.linalg.pinv(x.T @ x) @ x.T @ y\n",
    "    return w\n",
    "\n",
    "def compute_y_(x, w, add_bias):\n",
    "    # outputs pseudo-performed times from unperformed times\n",
    "    if add_bias:\n",
    "        x = np.concatenate((x, np.ones((x.shape[0], 1))), axis=1)\n",
    "    y_ = x @ w\n",
    "    return y_"
   ]
  },
  {
   "cell_type": "markdown",
   "metadata": {},
   "source": [
    "### Computing the statistics of the difference between performed and pseudo-performed files"
   ]
  },
  {
   "cell_type": "code",
   "execution_count": 8,
   "metadata": {},
   "outputs": [],
   "source": [
    "def compute_eps(x, y, add_bias=True):\n",
    "    if x.ndim == 1:\n",
    "        x = x[:,None]\n",
    "        y = y[:,None]\n",
    "    w = compute_w(x, y, add_bias)\n",
    "    y_ = compute_y_(x, w, add_bias)\n",
    "    eps = y - y_\n",
    "    mu, sigma = eps.mean(), eps.std()\n",
    "    return w, mu, sigma, eps"
   ]
  },
  {
   "cell_type": "markdown",
   "metadata": {},
   "source": [
    "### Generating noisy or noiseless pseudo-performed versions"
   ]
  },
  {
   "cell_type": "code",
   "execution_count": 9,
   "metadata": {},
   "outputs": [],
   "source": [
    "def generate(x, w, mu, sigma, add_bias=True, noisy=False):\n",
    "    if x.ndim == 1:\n",
    "        x = x[:,None]\n",
    "    y_ = compute_y_(x, w, add_bias)\n",
    "    eps = np.random.normal(mu, sigma, x.shape[0])\n",
    "    y_gen = y_ + int(noisy) * eps\n",
    "    return y_gen"
   ]
  },
  {
   "cell_type": "code",
   "execution_count": 10,
   "metadata": {},
   "outputs": [],
   "source": [
    "def timing(x, y, add_bias=True, noisy=False):\n",
    "    w, mu, sigma, err = compute_eps(x,y)\n",
    "    y_gen = generate(x, w, mu, sigma, add_bias=add_bias, noisy=noisy)\n",
    "    return y_gen"
   ]
  },
  {
   "cell_type": "code",
   "execution_count": 11,
   "metadata": {},
   "outputs": [],
   "source": [
    "unperformed_path = \"Data/Bach/Prelude/bwv_875/midi_score_annotations.txt\"\n",
    "performer_paths = [\n",
    "    (\"Data/Bach/Prelude/bwv_875/Ahfat01M_annotations.txt\"),\n",
    "    (\"Data/Bach/Prelude/bwv_875/CaoJ01M_annotations.txt\"),\n",
    "    (\"Data/Bach/Prelude/bwv_875/Hong04M_annotations.txt\")\n",
    "]\n",
    "\n",
    "unperformed_annotations = read_anno(unperformed_path)[0]\n",
    "performed_annotations = [read_anno(path)[0] for path in performer_paths]\n",
    "w, mu, sigma, err = compute_eps(unperformed_annotations, performed_annotations[0])\n",
    "pseudo_performed = generate(unperformed_annotations, w, mu, sigma)"
   ]
  },
  {
   "cell_type": "code",
   "execution_count": 12,
   "metadata": {},
   "outputs": [
    {
     "name": "stderr",
     "output_type": "stream",
     "text": [
      "/Users/ozaydin/anaconda3/lib/python3.7/site-packages/ipykernel_launcher.py:7: UserWarning: Matplotlib is currently using module://matplotlib_inline.backend_inline, which is a non-GUI backend, so cannot show the figure.\n",
      "  import sys\n"
     ]
    },
    {
     "data": {
      "image/png": "[encoded data removed]",
      "text/plain": [
       "<Figure size 432x288 with 1 Axes>"
      ]
     },
     "metadata": {
      "needs_background": "light"
     },
     "output_type": "display_data"
    }
   ],
   "source": [
    "fig, ax = plt.subplots()\n",
    "ax.plot(unperformed_annotations, pseudo_performed)\n",
    "ax.plot(unperformed_annotations, performed_annotations[0])\n",
    "ax.set_title('Timing function')\n",
    "ax.set_ylabel('Performed offsets')\n",
    "ax.set_xlabel('Unperformed_offsets')\n",
    "fig.show()"
   ]
  },
  {
   "cell_type": "code",
   "execution_count": 14,
   "metadata": {},
   "outputs": [
    {
     "name": "stderr",
     "output_type": "stream",
     "text": [
      "/Users/ozaydin/anaconda3/lib/python3.7/site-packages/ipykernel_launcher.py:7: UserWarning: Matplotlib is currently using module://matplotlib_inline.backend_inline, which is a non-GUI backend, so cannot show the figure.\n",
      "  import sys\n"
     ]
    },
    {
     "data": {
      "image/png": "[encoded data removed]",
      "text/plain": [
       "<Figure size 432x288 with 1 Axes>"
      ]
     },
     "metadata": {
      "needs_background": "light"
     },
     "output_type": "display_data"
    }
   ],
   "source": [
    "fig, ax = plt.subplots()\n",
    "ax.plot(unperformed_annotations, err)\n",
    "# ax.plot(unperformed_annotations, beats)\n",
    "ax.set_title('Error due to expressive timing')\n",
    "ax.set_ylabel('Deviation from the linear model')\n",
    "ax.set_xlabel('Unperformed_offsets')\n",
    "fig.show()"
   ]
  },
  {
   "cell_type": "markdown",
   "metadata": {},
   "source": [
    "## Part B: Empirical Findings"
   ]
  },
  {
   "cell_type": "code",
   "execution_count": 22,
   "metadata": {
    "tags": []
   },
   "outputs": [],
   "source": [
    "import music21"
   ]
  },
  {
   "cell_type": "code",
   "execution_count": 23,
   "metadata": {
    "tags": []
   },
   "outputs": [],
   "source": [
    "def helpers_simplify_score_for_rhythm_analysis(sample_score_tmp):\n",
    "\n",
    "    # remove chord charts, metronome mark, dynamics\n",
    "    for part in sample_score_tmp.parts:\n",
    "        for measure in part.getElementsByClass('Measure'):\n",
    "            for event in measure:\n",
    "                if isinstance(event, music21.harmony.ChordSymbol):\n",
    "                    measure.remove(event)\n",
    "                if isinstance(event, music21.tempo.MetronomeMark):\n",
    "                    measure.remove(event)\n",
    "                if isinstance(event, music21.dynamics.Dynamic):\n",
    "                    measure.remove(event)\n",
    "                if isinstance(event, music21.key.KeySignature):\n",
    "                    measure.remove(event)\n",
    "\n",
    "    # combine voice tracks intra-staff (done by extracted staffs and recombining)\n",
    "    chordified_treble = sample_score_tmp.parts[0].chordify()\n",
    "    chordified_bass = sample_score_tmp.parts[1].chordify()\n",
    "    sample_score = music21.stream.Score()\n",
    "    sample_score.insert(0, chordified_treble)\n",
    "    sample_score.insert(0, chordified_bass)\n",
    "\n",
    "    # cast all single-note chord objects (created by chordify) as note objects so students see more typical music21 score object structure\n",
    "    staff_count = 0\n",
    "    for part in sample_score.parts:\n",
    "        staff_count += 1\n",
    "        for measure in part.getElementsByClass('Measure'):\n",
    "            for event in measure:\n",
    "                if isinstance(event, music21.chord.Chord): # and len(event.notes) == 1:\n",
    "                    note_version = music21.note.Note()\n",
    "                    if staff_count == 1:\n",
    "                        note_version.pitch = music21.pitch.Pitch('C4')\n",
    "                    elif staff_count == 2:\n",
    "                        note_version.pitch = music21.pitch.Pitch('C3')\n",
    "                    note_version.duration = event.duration\n",
    "                    start_found = 0\n",
    "                    continue_found = 0\n",
    "                    none_found = 0\n",
    "                    all_ties_stop = 1\n",
    "                    for nte in event.notes:\n",
    "                        try:\n",
    "                            curr_tie_obj = nte.tie.type\n",
    "                        except:\n",
    "                            curr_tie_obj = None\n",
    "                        if (curr_tie_obj == 'start'):\n",
    "                            start_found = 1\n",
    "                        if (curr_tie_obj == 'continue'):\n",
    "                            continue_found = 1\n",
    "                        if (curr_tie_obj is None):\n",
    "                            none_found = 1\n",
    "                        if (curr_tie_obj != 'stop'):\n",
    "                            all_ties_stop = 0\n",
    "                    if start_found == 1:\n",
    "                        note_version.tie = music21.tie.Tie('start')\n",
    "                    elif none_found == 1:\n",
    "                        note_version.tie = None\n",
    "                    elif all_ties_stop == 1:\n",
    "                        note_version.tie = music21.tie.Tie('stop')\n",
    "                    elif continue_found == 1:\n",
    "                        note_version.tie = music21.tie.Tie('continue')\n",
    "                    note_version.offset = event.offset\n",
    "                    note_version.articulations = event.articulations\n",
    "                    note_version.expressions = event.expressions\n",
    "                    measure.replace(event, note_version)\n",
    "\n",
    "    # fix instances where tie start leads to tie None (should be no tie but previous loop isn't built to observe two consecutive elements)\n",
    "    # the ties are a pain >:\"{\n",
    "    for part in sample_score.parts:\n",
    "        for measure in part.getElementsByClass('Measure'):\n",
    "            for i in range(len(measure)-1):\n",
    "                curr_event = measure[i]\n",
    "                next_event = measure[i+1]\n",
    "                if isinstance(curr_event, music21.note.Note) and isinstance(next_event, music21.note.Note):\n",
    "                    try:\n",
    "                        curr_tie = curr_event.tie.type\n",
    "                    except:\n",
    "                        curr_tie = None\n",
    "                    try:\n",
    "                        next_tie = next_event.tie.type\n",
    "                    except:\n",
    "                        next_tie = None\n",
    "                    if (curr_tie == 'start' or curr_tie == 'continue') and (next_tie == 'start' or next_tie is None):\n",
    "                        measure[i].tie = music21.tie.Tie('stop')\n",
    "                if isinstance(curr_event, music21.note.Rest):\n",
    "                    measure[i].tie = None\n",
    "\n",
    "    # combine tied notes intra-staff\n",
    "    for part in sample_score.parts:\n",
    "        active_tie = 0\n",
    "        for measure in part.getElementsByClass('Measure'):\n",
    "            for i in range(len(measure)):\n",
    "                if isinstance(measure[i], music21.note.Note):\n",
    "                    if measure[i].tie is not None:\n",
    "                        if measure[i].tie.type == \"start\":\n",
    "                            active_tie = 1\n",
    "                        elif measure[i].tie.type == \"stop\" and active_tie == 1:\n",
    "                            active_tie = 0\n",
    "                        elif measure[i].tie.type == \"stop\" and active_tie == 0:\n",
    "                            measure[i].tie = None\n",
    "\n",
    "    treble = sample_score.parts[0]\n",
    "    for measure in treble.getElementsByClass('Measure'):\n",
    "        i = 0\n",
    "        len_measure = len(measure)\n",
    "        while i < len_measure-1:\n",
    "            if isinstance(measure[i], music21.note.Note) and isinstance(measure[i+1], music21.note.Note):\n",
    "                if measure[i].tie is not None and measure[i+1].tie is not None:\n",
    "                    measure[i].duration = music21.duration.Duration(measure[i].duration.quarterLength + measure[i+1].duration.quarterLength)\n",
    "                    if measure[i+1].tie is not None:\n",
    "                        if measure[i+1].tie.type == \"stop\":\n",
    "                            measure[i].tie = None\n",
    "                    measure.remove(measure[i+1])\n",
    "            i += 1\n",
    "            len_measure = len(measure)\n",
    "\n",
    "    bass = sample_score.parts[1]\n",
    "    for measure in bass.getElementsByClass('Measure'):\n",
    "        i = 0\n",
    "        len_measure = len(measure)\n",
    "        while i < len_measure-1:\n",
    "            if isinstance(measure[i], music21.note.Note) and isinstance(measure[i+1], music21.note.Note):\n",
    "                if measure[i].tie is not None and measure[i+1].tie is not None:\n",
    "                    measure[i].duration = music21.duration.Duration(measure[i].duration.quarterLength + measure[i+1].duration.quarterLength)\n",
    "                    if measure[i+1].tie is not None:\n",
    "                        if measure[i+1].tie.type == \"stop\":\n",
    "                            measure[i].tie = None\n",
    "                    measure.remove(measure[i+1])\n",
    "            i += 1\n",
    "            len_measure = len(measure)\n",
    "\n",
    "    sample_score = music21.stream.Score()\n",
    "    sample_score.insert(0, treble)\n",
    "    sample_score.insert(0, bass)\n",
    "\n",
    "    # deciding against repeat expands for now due to issues with measure number\n",
    "\n",
    "    return sample_score"
   ]
  },
  {
   "cell_type": "markdown",
   "metadata": {},
   "source": [
    "### Compute note onsets on the metrical grid"
   ]
  },
  {
   "cell_type": "code",
   "execution_count": 24,
   "metadata": {},
   "outputs": [],
   "source": [
    "def read_midi(path):\n",
    "    # music21.midi.MidiFile.read(path)\n",
    "    # return helpers_simplify_score_for_rhythm_analysis(music21.converter.parse(path))\n",
    "    return music21.converter.parse(path)\n",
    "    \n",
    "def compute_offsets(midi):\n",
    "    note_list_score = []\n",
    "    note_list_measure = []\n",
    "    note_list_measure3 = []\n",
    "    for part in sample_score_tmp.parts:\n",
    "        for measure in part.getElementsByClass('Measure'):\n",
    "            for event in measure.getElementsByClass('Note'):\n",
    "                offset_score = event.getOffsetInHierarchy(sample_score_tmp)\n",
    "                offset_part = event.getOffsetInHierarchy(part)\n",
    "                offset_measure = event.getOffsetInHierarchy(measure)\n",
    "                # print(offset_score, offset_part, offset_measure)\n",
    "                note_list_score.append(offset_score)\n",
    "                \n",
    "                if int(measure.duration.quarterLength*4) % 3 == 0:\n",
    "                    note_list_measure3.append(offset_measure)\n",
    "                else:\n",
    "                    note_list_measure.append(offset_measure)\n",
    "                \n",
    "    score_offsets = np.array(note_list_score)\n",
    "    measure_offsets = np.array(note_list_measure)\n",
    "    measure_offsets3 = np.array(note_list_measure3)\n",
    "    return score_offsets, measure_offsets, measure_offsets3\n",
    "\n",
    "def compute_hist(offsets):\n",
    "    unique, counts = np.unique(offsets, return_counts=True)\n",
    "    return unique, counts\n",
    "\n",
    "def plot_hist(unique, counts, title):\n",
    "    fig, ax = plt.subplots()\n",
    "    ax.bar(unique, counts, width=0.15)\n",
    "    ax.set_title(title)\n",
    "    ax.set_ylabel('# of notes')\n",
    "    ax.set_xlabel('metric_location')\n",
    "    fig.show()\n",
    "    "
   ]
  },
  {
   "cell_type": "code",
   "execution_count": 26,
   "metadata": {},
   "outputs": [
    {
     "name": "stderr",
     "output_type": "stream",
     "text": [
      "/Users/ozaydin/anaconda3/lib/python3.7/site-packages/ipykernel_launcher.py:39: UserWarning: Matplotlib is currently using module://matplotlib_inline.backend_inline, which is a non-GUI backend, so cannot show the figure.\n"
     ]
    },
    {
     "data": {
      "image/png": "[encoded data removed]",
      "text/plain": [
       "<Figure size 432x288 with 1 Axes>"
      ]
     },
     "metadata": {
      "image/png": {
       "height": 277,
       "width": 388
      },
      "needs_background": "light"
     },
     "output_type": "display_data"
    },
    {
     "data": {
      "image/png": "[encoded data removed]",
      "text/plain": [
       "<Figure size 432x288 with 1 Axes>"
      ]
     },
     "metadata": {
      "image/png": {
       "height": 277,
       "width": 382
      },
      "needs_background": "light"
     },
     "output_type": "display_data"
    }
   ],
   "source": [
    "unperformed_midi = read_midi(unperformed_path.replace('_annotations.txt', '.mid'))\n",
    "performed_midi = [read_midi(path.replace('_annotations.txt', '.mid')) for path in performer_paths]\n",
    "\n",
    "sample_score_tmp = unperformed_midi\n",
    "\n",
    "# for part in sample_score_tmp.parts:\n",
    "#     for measure in part.getElementsByClass('Measure'):\n",
    "#         for event in measure.getElementsByClass('Note'):\n",
    "#             pass\n",
    "\n",
    "score_offsets, measure_offsets, measure_offsets3 = compute_offsets(unperformed_midi)\n",
    "\n",
    "unique, counts = compute_hist(measure_offsets)\n",
    "unique3, counts3 = compute_hist(measure_offsets3)\n",
    "\n",
    "plot_hist(unique, counts, '4/4')\n",
    "plot_hist(unique3, counts3, '3/4')"
   ]
  },
  {
   "cell_type": "code",
   "execution_count": null,
   "metadata": {},
   "outputs": [],
   "source": []
  }
 ],
 "metadata": {
  "kernelspec": {
   "display_name": "Python 3 (ipykernel)",
   "language": "python",
   "name": "python3"
  },
  "language_info": {
   "codemirror_mode": {
    "name": "ipython",
    "version": 3
   },
   "file_extension": ".py",
   "mimetype": "text/x-python",
   "name": "python",
   "nbconvert_exporter": "python",
   "pygments_lexer": "ipython3",
   "version": "3.7.9"
  }
 },
 "nbformat": 4,
 "nbformat_minor": 4
}
