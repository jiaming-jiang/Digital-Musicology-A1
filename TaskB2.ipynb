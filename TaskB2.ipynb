{
 "cells": [
  {
   "cell_type": "code",
   "execution_count": 11,
   "metadata": {},
   "outputs": [
    {
     "name": "stdout",
     "output_type": "stream",
     "text": [
      "Standard Deviations:\n",
      "Balakirev: 30.293283550249154\n"
     ]
    }
   ],
   "source": [
    "import os\n",
    "import numpy as np\n",
    "\n",
    "def read_annotations(file_path):\n",
    "    with open(file_path, 'r') as file:\n",
    "        data = np.loadtxt(file, usecols=(0,))\n",
    "        return data\n",
    "\n",
    "def calculate_timing_deviations(unperformed, performed):\n",
    "    return performed - unperformed\n",
    "\n",
    "def calculate_standard_deviation(deviations):\n",
    "    return np.std(deviations)\n",
    "\n",
    "\n",
    "def process_composer_folder(composer_folder):\n",
    "    pieces = os.listdir(composer_folder)\n",
    "    timing_deviations = []\n",
    "\n",
    "    for piece in pieces:\n",
    "        piece_folder = os.path.join(composer_folder, piece)\n",
    "        if os.path.isdir(piece_folder):\n",
    "            unperformed_path = os.path.join(piece_folder, 'midi_score_annotations.txt')\n",
    "            if os.path.exists(unperformed_path):\n",
    "                unperformed_annotations = read_annotations(unperformed_path)\n",
    "\n",
    "                performed_files = [f for f in os.listdir(piece_folder) if f.endswith('_annotations.txt') and not f.startswith('midi_score')]\n",
    "                for performed_file in performed_files:\n",
    "                    performed_path = os.path.join(piece_folder, performed_file)\n",
    "                    performed_annotations = read_annotations(performed_path)\n",
    "\n",
    "                    deviations = calculate_timing_deviations(unperformed_annotations, performed_annotations)\n",
    "                    timing_deviations.extend(deviations)\n",
    "\n",
    "    return timing_deviations\n",
    "\n",
    "def main():\n",
    "    composers = os.listdir('Sample')\n",
    "\n",
    "    composer_std_deviations = {}\n",
    "\n",
    "    for composer in composers:\n",
    "        composer_folder = os.path.join('Sample', composer)\n",
    "        if os.path.isdir(composer_folder):\n",
    "            timing_deviations = process_composer_folder(composer_folder)\n",
    "            std_deviation = calculate_standard_deviation(timing_deviations)\n",
    "            composer_std_deviations[composer] = std_deviation\n",
    "\n",
    "    print(\"Standard Deviations:\")\n",
    "    for composer, std_deviation in composer_std_deviations.items():\n",
    "        print(f\"{composer}: {std_deviation}\")\n",
    "\n",
    "if __name__ == \"__main__\":\n",
    "    main()\n",
    "\n",
    "\n"
   ]
  }
 ],
 "metadata": {
  "kernelspec": {
   "display_name": "Python 3",
   "language": "python",
   "name": "python3"
  },
  "language_info": {
   "codemirror_mode": {
    "name": "ipython",
    "version": 3
   },
   "file_extension": ".py",
   "mimetype": "text/x-python",
   "name": "python",
   "nbconvert_exporter": "python",
   "pygments_lexer": "ipython3",
   "version": "3.7.0"
  }
 },
 "nbformat": 4,
 "nbformat_minor": 2
}
