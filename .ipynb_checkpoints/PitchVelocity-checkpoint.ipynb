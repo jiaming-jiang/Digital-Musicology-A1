{
 "cells": [
  {
   "cell_type": "code",
   "execution_count": 2,
   "metadata": {},
   "outputs": [
    {
     "name": "stdout",
     "output_type": "stream",
     "text": [
      "Requirement already satisfied: music21 in c:\\programdata\\anaconda3\\envs\\adaexam\\lib\\site-packages (8.3.0)\n",
      "Requirement already satisfied: pitchtypes in c:\\programdata\\anaconda3\\envs\\adaexam\\lib\\site-packages (0.4.0)\n",
      "Requirement already satisfied: requests in c:\\programdata\\anaconda3\\envs\\adaexam\\lib\\site-packages (from music21) (2.26.0)\n",
      "Requirement already satisfied: chardet in c:\\programdata\\anaconda3\\envs\\adaexam\\lib\\site-packages (from music21) (5.2.0)\n",
      "Requirement already satisfied: matplotlib in c:\\programdata\\anaconda3\\envs\\adaexam\\lib\\site-packages (from music21) (3.6.2)\n",
      "Requirement already satisfied: jsonpickle in c:\\programdata\\anaconda3\\envs\\adaexam\\lib\\site-packages (from music21) (3.0.4)\n",
      "Requirement already satisfied: more-itertools in c:\\programdata\\anaconda3\\envs\\adaexam\\lib\\site-packages (from music21) (10.2.0)\n",
      "Requirement already satisfied: joblib in c:\\programdata\\anaconda3\\envs\\adaexam\\lib\\site-packages (from music21) (1.3.2)\n",
      "Requirement already satisfied: numpy in c:\\programdata\\anaconda3\\envs\\adaexam\\lib\\site-packages (from music21) (1.26.3)\n",
      "Requirement already satisfied: webcolors>=1.5 in c:\\programdata\\anaconda3\\envs\\adaexam\\lib\\site-packages (from music21) (1.13)\n",
      "Requirement already satisfied: fonttools>=4.22.0 in c:\\programdata\\anaconda3\\envs\\adaexam\\lib\\site-packages (from matplotlib->music21) (4.25.0)\n",
      "Requirement already satisfied: cycler>=0.10 in c:\\programdata\\anaconda3\\envs\\adaexam\\lib\\site-packages (from matplotlib->music21) (0.11.0)\n",
      "Requirement already satisfied: python-dateutil>=2.7 in c:\\programdata\\anaconda3\\envs\\adaexam\\lib\\site-packages (from matplotlib->music21) (2.8.2)\n",
      "Requirement already satisfied: pyparsing>=2.2.1 in c:\\programdata\\anaconda3\\envs\\adaexam\\lib\\site-packages (from matplotlib->music21) (3.0.9)\n",
      "Requirement already satisfied: contourpy>=1.0.1 in c:\\programdata\\anaconda3\\envs\\adaexam\\lib\\site-packages (from matplotlib->music21) (1.2.0)\n",
      "Requirement already satisfied: pillow>=6.2.0 in c:\\programdata\\anaconda3\\envs\\adaexam\\lib\\site-packages (from matplotlib->music21) (8.4.0)\n",
      "Requirement already satisfied: packaging>=20.0 in c:\\programdata\\anaconda3\\envs\\adaexam\\lib\\site-packages (from matplotlib->music21) (23.1)\n",
      "Requirement already satisfied: kiwisolver>=1.0.1 in c:\\programdata\\anaconda3\\envs\\adaexam\\lib\\site-packages (from matplotlib->music21) (1.4.4)\n",
      "Requirement already satisfied: six>=1.5 in c:\\programdata\\anaconda3\\envs\\adaexam\\lib\\site-packages (from python-dateutil>=2.7->matplotlib->music21) (1.16.0)\n",
      "Requirement already satisfied: certifi>=2017.4.17 in c:\\programdata\\anaconda3\\envs\\adaexam\\lib\\site-packages (from requests->music21) (2023.11.17)\n",
      "Requirement already satisfied: idna<4,>=2.5 in c:\\programdata\\anaconda3\\envs\\adaexam\\lib\\site-packages (from requests->music21) (3.4)\n",
      "Requirement already satisfied: charset-normalizer~=2.0.0 in c:\\programdata\\anaconda3\\envs\\adaexam\\lib\\site-packages (from requests->music21) (2.0.4)\n",
      "Requirement already satisfied: urllib3<1.27,>=1.21.1 in c:\\programdata\\anaconda3\\envs\\adaexam\\lib\\site-packages (from requests->music21) (1.26.7)\n"
     ]
    }
   ],
   "source": [
    "!pip install music21 pitchtypes"
   ]
  },
  {
   "cell_type": "markdown",
   "metadata": {},
   "source": [
    "### Extract pitch and velocity value of each note (without dividing different parts)"
   ]
  },
  {
   "cell_type": "code",
   "execution_count": 15,
   "metadata": {},
   "outputs": [
    {
     "name": "stdout",
     "output_type": "stream",
     "text": [
      "Enharmonic Numbers: [74, 50, 49, 50, 72, 70, 69, 67, 38, 65, 64, 62, 65, 64, 62, 70, 67, 38, 62, 67, 43, 70, 67, 46, 62, 67, 50, 70, 49, 67, 50, 62, 67, 69, 67, 38, 62, 67, 41, 69, 65, 45, 62, 65, 69, 50, 49, 65, 50, 62, 65, 67, 64, 62, 58, 64, 52, 67, 64, 55, 61, 64, 49, 67, 64, 57, 61, 64, 50, 65, 62, 60, 58, 57, 55, 53, 52, 50, 53, 52, 50, 58, 55, 62, 50, 55, 58, 67, 55, 50, 70, 55, 58, 74, 73, 55, 74, 50, 55, 57, 55, 62, 50, 55, 65, 57, 53, 69, 50, 53, 57, 74, 73, 53, 50, 53, 55, 52, 67, 50, 67, 52, 55, 73, 52, 49, 76, 52, 55, 73, 52, 69, 49, 69, 52, 74, 53, 50, 74, 72, 52, 70, 53, 55, 69, 67, 57, 65, 59, 64, 61, 65, 62, 60, 59, 69, 57, 59, 67, 60, 67, 69, 59, 71, 57, 72, 55, 53, 74, 52, 76, 50, 77, 52, 79, 77, 76, 55, 74, 76, 48, 72, 50, 70, 50, 52, 69, 53, 67, 65, 55, 64, 57, 62, 58, 60, 64, 58, 57, 67, 55, 57, 65, 58, 67, 57, 55, 69, 55, 70, 53, 51, 72, 50, 74, 48, 75, 50, 77, 75, 53, 74, 72, 46, 74, 77, 58, 74, 60, 72, 62, 70, 74, 65, 70, 69, 58, 67, 70, 62, 67, 65, 64, 55, 64, 58, 76, 55, 77, 53, 79, 52, 55, 82, 52, 50, 76, 49, 52, 79, 49, 47, 45, 73, 79, 57, 73, 71, 59, 61, 69, 76, 64, 69, 67, 57, 65, 73, 55, 65, 64, 62, 53, 62, 62, 74, 53, 52, 76, 77, 50, 57, 81, 50, 48, 46, 74, 53, 46, 72, 45, 43, 70, 79, 70, 55, 70, 57, 69, 58, 67, 70, 62, 67, 65, 55, 63, 70, 63, 58, 62, 57, 61, 69, 61, 64, 59, 57, 61, 69, 61, 64, 69, 57, 61, 69, 64, 61, 69, 55, 61, 69, 61, 64, 59, 55, 61, 69, 61, 64, 69, 55, 61, 69, 64, 61, 69, 53, 62, 69, 65, 62, 61, 53, 62, 69, 65, 62, 69, 53, 62, 69, 65, 62, 69, 61, 64, 69, 67, 64, 62, 61, 64, 69, 67, 64, 69, 61, 64, 69, 67, 64, 67, 69, 65, 62, 69, 71, 73, 65, 74, 69, 62, 65, 69, 65, 74, 69, 65, 62, 69, 74, 65, 69, 66, 60, 74, 66, 69, 64, 66, 60, 74, 66, 69, 74, 66, 60, 74, 66, 69, 74, 67, 59, 69, 71, 72, 67, 74, 71, 59, 67, 71, 67, 74, 71, 59, 67, 71, 67, 74, 67, 71, 64, 68, 74, 68, 71, 66, 64, 68, 74, 71, 68, 74, 64, 68, 74, 71, 68, 74, 57, 72, 69, 67, 57, 72, 65, 64, 62, 60, 59, 57, 60, 59, 57, 65, 62, 57, 69, 62, 74, 65, 74, 62, 77, 57, 62, 65, 81, 80, 81, 57, 62, 62, 64, 62, 69, 57, 69, 62, 64, 72, 60, 76, 57, 60, 64, 81, 80, 60, 81, 57, 60, 62, 81, 59, 74, 57, 74, 59, 62, 80, 59, 83, 56, 83, 59, 62, 80, 59, 76, 56, 76, 59, 81, 60, 45, 79, 77, 76, 48, 74, 52, 72, 71, 57, 69, 72, 60, 71, 69, 62, 77, 74, 65, 69, 74, 57, 77, 57, 74, 62, 69, 74, 50, 77, 74, 59, 69, 74, 60, 76, 74, 64, 69, 74, 57, 76, 72, 60, 69, 72, 76, 72, 57, 69, 72, 59, 74, 71, 62, 69, 71, 56, 74, 71, 59, 68, 71, 64, 74, 71, 52, 68, 71, 72, 57, 69, 67, 65, 64, 62, 60, 59, 72, 57, 60, 52, 55, 54, 75, 69, 74, 72, 72, 78, 75, 74, 69, 72, 81, 66, 75, 62, 74, 72, 70, 67, 79, 55, 77, 75, 74, 58, 72, 62, 70, 69, 67, 72, 70, 69, 65, 67, 64, 72, 61, 60, 76, 58, 71, 65, 61, 77, 60, 58, 67, 70, 61, 60, 79, 58, 57, 65, 74, 72, 64, 70, 62, 69, 60, 79, 58, 57, 77, 76, 55, 58, 74, 57, 82, 55, 76, 53, 74, 52, 73, 67, 70, 65, 69, 67, 64, 62, 74, 62, 70, 67, 65, 69, 67, 64, 61, 76, 67, 70, 65, 69, 64, 67, 50, 65, 63, 62, 60, 66, 60, 58, 67, 60, 58, 69, 57, 55, 70, 57, 55, 71, 53, 52, 58, 72, 58, 73, 57, 55, 53, 53, 74, 55, 76, 52, 53, 50, 51, 77, 51, 50, 78, 48, 46, 79, 74, 43, 82, 81, 46, 79, 77, 50, 76, 74, 55, 73, 53, 55, 74, 76, 73, 69, 55, 45, 64, 43, 69, 45, 55, 45, 73, 55, 76, 45, 74, 55, 45, 76, 55, 45, 53, 69, 45, 65, 43, 69, 45, 74, 53, 69, 45, 65, 53, 69, 74, 45, 72, 74, 53, 45, 53, 45, 67, 52, 64, 45, 67, 43, 72, 45, 67, 52, 45, 64, 52, 67, 72, 45, 70, 52, 72, 45, 72, 52, 45, 50, 65, 50, 53, 62, 50, 65, 45, 70, 65, 50, 62, 53, 57, 65, 43, 70, 52, 67, 64, 55, 67, 58, 61, 55, 69, 49, 70, 69, 52, 61, 69, 43, 70, 69, 61, 46, 64, 45, 43, 41, 53, 69, 52, 70, 53, 69, 41, 62, 69, 53, 70, 52, 53, 69, 53, 62, 41, 53, 52, 65, 50, 49, 67, 40, 69, 40, 41, 67, 43, 64, 67, 69, 37, 67, 57, 49, 47, 67, 45, 50, 58, 57, 38, 55, 41, 57, 64, 62, 45, 61, 62, 50, 48, 49, 67, 50, 65, 64, 65, 58, 55, 57, 60, 57, 58, 62, 48, 63, 54, 57, 58, 55, 57, 60, 46, 62, 55, 58, 57, 60, 58, 62, 63, 48, 54, 57, 55, 58, 57, 60, 46, 62, 58, 55, 57, 60, 58, 62, 60, 45, 50, 54, 52, 55, 57, 54, 43, 58, 50, 52, 54, 55, 57, 58, 60, 62, 58, 67, 62, 70, 67, 65, 63, 62, 60, 58, 57, 55, 58, 52, 55, 49, 70, 69, 67, 76, 74, 73, 45, 71, 47, 69, 67, 49, 65, 64, 65, 50, 62, 52, 67, 52, 62, 53, 69, 62, 55, 70, 62, 57, 62, 64, 45, 61, 62, 50, 60, 57, 54, 60, 50, 62, 60, 57, 54, 60, 62, 50, 60, 57, 54, 60, 58, 50, 62, 55, 58, 54, 50, 58, 62, 58, 55, 54, 50, 58, 62, 58, 55, 52, 53, 50, 62, 57, 53, 62, 53, 50, 62, 57, 53, 62, 53, 50, 62, 57, 53, 62, 50, 55, 61, 58, 55, 52, 50, 55, 61, 58, 55, 52, 55, 50, 61, 55, 58, 52, 57, 50, 62, 54]\n",
      "Velocities: [76, 53, 59, 61, 69, 72, 72, 71, 57, 71, 68, 68, 71, 67, 65, 71, 61, 74, 66, 67, 80, 70, 59, 73, 68, 67, 79, 67, 69, 63, 67, 66, 67, 71, 64, 73, 69, 62, 77, 68, 62, 80, 68, 60, 67, 74, 70, 59, 76, 60, 66, 68, 64, 67, 60, 63, 60, 67, 66, 64, 62, 66, 63, 63, 67, 57, 62, 68, 61, 72, 69, 74, 74, 76, 66, 68, 67, 71, 69, 66, 73, 78, 67, 79, 65, 59, 65, 77, 63, 61, 82, 58, 66, 86, 72, 59, 75, 58, 59, 70, 63, 80, 65, 62, 74, 65, 62, 82, 61, 62, 60, 84, 70, 58, 60, 64, 69, 69, 80, 61, 80, 64, 59, 80, 57, 61, 76, 58, 51, 71, 48, 71, 57, 71, 56, 74, 60, 62, 74, 77, 65, 75, 70, 70, 75, 75, 73, 76, 69, 67, 66, 73, 67, 67, 68, 74, 65, 71, 71, 64, 71, 80, 71, 77, 73, 79, 68, 67, 79, 62, 76, 59, 76, 71, 68, 71, 65, 63, 67, 66, 63, 68, 56, 68, 56, 57, 63, 64, 63, 67, 61, 69, 57, 60, 62, 60, 67, 57, 56, 64, 54, 57, 66, 59, 66, 62, 59, 67, 59, 70, 63, 63, 62, 57, 62, 53, 65, 63, 61, 64, 60, 58, 59, 75, 63, 61, 75, 59, 73, 63, 76, 64, 61, 69, 60, 56, 55, 58, 58, 58, 58, 61, 64, 57, 64, 64, 79, 64, 78, 66, 86, 67, 63, 84, 66, 65, 78, 68, 64, 65, 65, 66, 73, 65, 62, 79, 70, 65, 73, 76, 67, 55, 67, 59, 57, 61, 59, 51, 54, 65, 61, 67, 65, 67, 71, 80, 69, 67, 80, 84, 65, 67, 80, 66, 62, 66, 69, 64, 66, 60, 62, 69, 67, 64, 69, 67, 69, 68, 63, 70, 61, 61, 54, 56, 56, 56, 58, 53, 57, 57, 51, 53, 53, 43, 53, 55, 59, 51, 50, 34, 54, 49, 43, 53, 53, 29, 51, 54, 47, 49, 55, 53, 61, 58, 57, 55, 60, 37, 52, 51, 38, 50, 54, 39, 55, 60, 46, 55, 64, 54, 56, 59, 59, 56, 66, 54, 58, 55, 53, 60, 58, 53, 54, 57, 55, 67, 60, 56, 66, 53, 57, 60, 57, 56, 63, 57, 55, 51, 54, 51, 50, 51, 50, 47, 55, 49, 58, 63, 60, 46, 61, 52, 58, 59, 56, 66, 66, 56, 64, 56, 53, 60, 53, 58, 66, 63, 64, 64, 70, 67, 73, 70, 63, 67, 63, 65, 74, 65, 62, 70, 68, 66, 78, 73, 69, 70, 73, 73, 77, 73, 78, 79, 74, 78, 79, 68, 81, 78, 70, 79, 76, 79, 71, 78, 82, 76, 78, 76, 80, 72, 78, 74, 73, 82, 77, 75, 85, 81, 70, 86, 86, 75, 88, 79, 79, 75, 88, 76, 75, 73, 73, 74, 74, 73, 68, 72, 76, 73, 68, 80, 68, 87, 71, 87, 68, 84, 65, 67, 66, 81, 82, 82, 65, 63, 67, 74, 72, 78, 70, 78, 68, 71, 79, 67, 84, 67, 67, 66, 86, 75, 64, 79, 65, 68, 75, 79, 74, 87, 68, 87, 73, 68, 89, 72, 88, 68, 88, 70, 66, 81, 66, 69, 65, 69, 68, 80, 73, 75, 71, 71, 68, 64, 69, 66, 69, 63, 71, 65, 66, 68, 63, 61, 77, 71, 62, 68, 62, 62, 54, 57, 54, 57, 68, 59, 56, 66, 56, 57, 64, 53, 60, 64, 58, 58, 64, 60, 60, 65, 57, 54, 64, 58, 52, 58, 54, 67, 63, 59, 77, 66, 63, 69, 65, 65, 77, 70, 68, 81, 73, 73, 78, 77, 73, 72, 77, 77, 81, 67, 75, 76, 73, 79, 73, 71, 69, 81, 66, 66, 63, 61, 65, 68, 71, 70, 63, 70, 66, 62, 62, 55, 60, 66, 55, 64, 47, 58, 51, 64, 57, 60, 59, 63, 69, 68, 53, 63, 54, 65, 60, 56, 66, 63, 56, 53, 63, 65, 69, 62, 58, 80, 58, 79, 60, 60, 79, 64, 61, 61, 69, 63, 61, 80, 68, 63, 64, 72, 79, 69, 77, 69, 80, 76, 78, 68, 65, 75, 76, 63, 66, 79, 66, 74, 62, 66, 59, 68, 64, 70, 58, 63, 63, 68, 63, 57, 62, 68, 62, 62, 44, 55, 61, 57, 55, 59, 65, 56, 63, 55, 59, 60, 60, 66, 68, 56, 64, 61, 72, 61, 65, 73, 67, 65, 75, 67, 69, 79, 71, 73, 79, 70, 71, 70, 78, 70, 81, 76, 57, 43, 51, 83, 73, 80, 71, 75, 73, 72, 82, 72, 79, 82, 75, 85, 84, 80, 81, 80, 74, 76, 75, 75, 77, 76, 73, 79, 74, 74, 69, 73, 73, 76, 81, 73, 71, 80, 71, 82, 72, 70, 73, 78, 69, 81, 72, 83, 70, 71, 65, 69, 68, 65, 67, 67, 69, 64, 69, 64, 70, 56, 66, 61, 65, 53, 61, 68, 62, 66, 66, 59, 55, 55, 58, 54, 55, 60, 56, 57, 54, 58, 52, 55, 44, 51, 53, 48, 51, 62, 50, 65, 50, 61, 55, 61, 50, 46, 45, 55, 45, 57, 63, 60, 65, 57, 67, 66, 62, 67, 63, 63, 67, 70, 68, 62, 64, 63, 67, 59, 66, 68, 61, 64, 71, 62, 61, 59, 58, 53, 63, 57, 55, 61, 62, 66, 63, 66, 70, 65, 68, 64, 71, 64, 71, 73, 76, 72, 63, 71, 66, 71, 70, 71, 76, 77, 69, 69, 81, 78, 83, 80, 75, 80, 75, 37, 79, 83, 78, 75, 78, 85, 76, 81, 77, 74, 88, 76, 81, 82, 80, 78, 76, 80, 81, 71, 79, 77, 73, 81, 69, 57, 71, 73, 76, 68, 71, 69, 72, 62, 63, 66, 63, 69, 67, 70, 70, 68, 62, 63, 59, 64, 62, 69, 63, 55, 62, 63, 58, 63, 63, 67, 60, 61, 63, 61, 56, 61, 58, 61, 56, 60, 62, 56, 63, 49, 67, 68, 66, 59, 63, 62, 62, 70, 65, 62, 67, 64, 65, 64, 71, 71, 62, 78, 77, 66, 78, 76, 77, 72, 67, 70, 62, 62, 60, 58, 61, 57, 54, 60, 57, 66, 69, 69, 73, 74, 71, 66, 65, 66, 69, 69, 64, 65, 67, 80, 65, 61, 61, 77, 61, 64, 51, 79, 57, 58, 72, 60, 64, 56, 64, 60, 63, 61, 60, 58, 57, 60, 56, 57, 62, 58, 55, 57, 54, 63, 54, 58, 57, 58, 51, 61, 56, 52, 50, 55, 51, 56, 52, 51, 54, 46, 47, 53, 47, 51, 49, 41, 46, 58, 54, 53, 57, 58, 53, 59, 55, 55, 49, 50, 55, 52, 49, 54, 51, 48, 58, 51, 54, 54, 66, 55, 48, 60, 51, 51, 61, 51, 41, 48, 37, 51, 49, 51, 43, 45, 33, 47, 31]\n",
      "1135 1135\n"
     ]
    }
   ],
   "source": [
    "from music21 import converter, note, chord\n",
    "\n",
    "def extract_enharmonic_numbers_and_velocities(midi_file_path):\n",
    "    # Specify the path to the MuseScore executable file\n",
    "    converterPath = 'C:/Program Files/MuseScore 3/bin/MuseScore3.exe'  # Update this path according to your MuseScore installation directory\n",
    "\n",
    "    # Parse the MIDI file and convert it into a Score object\n",
    "    score = converter.parse(midi_file_path, converterPath=converterPath)\n",
    "\n",
    "    # Initialize lists to store enharmonic numbers and velocities\n",
    "    enharmonic_numbers = []\n",
    "    velocities = []\n",
    "\n",
    "    # Initialize a dictionary to keep track of note velocities\n",
    "    # Key: enharmonic number, Value: list of velocities for that note\n",
    "    velocity_dict = {}\n",
    "\n",
    "    # Iterate through notes in the score\n",
    "    for note_or_chord in score.flat.notes:\n",
    "        # Check if the object is a Note\n",
    "        if isinstance(note_or_chord, note.Note):\n",
    "            # If it's a single note, get its enharmonic number and velocity\n",
    "            enharmonic_number = note_or_chord.pitch.midi\n",
    "            enharmonic_numbers.append(enharmonic_number)\n",
    "\n",
    "            velocity = note_or_chord.volume.velocity\n",
    "            velocities.append(velocity)\n",
    "\n",
    "            # Update velocity_dict\n",
    "            if enharmonic_number in velocity_dict:\n",
    "                velocity_dict[enharmonic_number].append(velocity)\n",
    "            else:\n",
    "                velocity_dict[enharmonic_number] = [velocity]\n",
    "\n",
    "        # If it's a chord, iterate through the notes in the chord and get their enharmonic numbers and velocities\n",
    "        elif isinstance(note_or_chord, chord.Chord):\n",
    "            for single_note in note_or_chord:\n",
    "                enharmonic_number = single_note.pitch.midi\n",
    "                enharmonic_numbers.append(enharmonic_number)\n",
    "\n",
    "                velocity = single_note.volume.velocity\n",
    "                velocities.append(velocity)\n",
    "\n",
    "                # Update velocity_dict\n",
    "                if enharmonic_number in velocity_dict:\n",
    "                    velocity_dict[enharmonic_number].append(velocity)\n",
    "                else:\n",
    "                    velocity_dict[enharmonic_number] = [velocity]\n",
    "\n",
    "    return enharmonic_numbers, velocities, velocity_dict\n",
    "\n",
    "midi_file_path = 'HONG04M.mid'\n",
    "enharmonic_numbers, velocities, velocity_dict = extract_enharmonic_numbers_and_velocities(midi_file_path)\n",
    "print(\"Enharmonic Numbers:\", enharmonic_numbers)\n",
    "print(\"Velocities:\", velocities)\n",
    "#print(\"Velocity Dictionary:\", velocity_dict)\n",
    "print(len(enharmonic_numbers),len(velocities))\n"
   ]
  },
  {
   "cell_type": "code",
   "execution_count": 25,
   "metadata": {},
   "outputs": [],
   "source": [
    "import numpy as np\n",
    "\n",
    "def compute_w(x, y, add_bias):\n",
    "    # outputs a mapping between performed and unperformed files\n",
    "    # w * x + eps = y # eps ~ N(0,sigma)\n",
    "    # minimize_w w^2 * x^2 - 2 w * x.T @ y + y^2\n",
    "    # 2 w x^2 - 2 y.T x = 0\n",
    "    # w = pinv(x.T x) x.T y # pinv ~ pseudo inverse\n",
    "    if add_bias:\n",
    "        x = np.concatenate((x, np.ones((x.shape[0],1))), axis=1)\n",
    "    w = np.linalg.pinv(x.T @ x) @ x.T @ y\n",
    "    return w\n",
    "\n",
    "def compute_y_(x, w, add_bias):\n",
    "    # outputs pseudo-performed times from unperformed times\n",
    "    if add_bias:\n",
    "        x = np.concatenate((x, np.ones((x.shape[0], 1))), axis=1)\n",
    "    y_ = x @ w\n",
    "    return y_\n",
    "\n",
    "def compute_eps(x, y, add_bias=True):\n",
    "    if x.ndim == 1:\n",
    "        x = x[:,None]\n",
    "        y = y[:,None]\n",
    "    w = compute_w(x, y, add_bias)\n",
    "    y_ = compute_y_(x, w, add_bias)\n",
    "    eps = y - y_\n",
    "    mu, sigma = eps.mean(), eps.std()\n",
    "    return w, mu, sigma, eps\n",
    "\n",
    "def generate(x, w, mu, sigma, add_bias=True, noisy=False):\n",
    "    if x.ndim == 1:\n",
    "        x = x[:,None]\n",
    "    y_ = compute_y_(x, w, add_bias)\n",
    "    eps = np.random.normal(mu, sigma, x.shape[0])\n",
    "    y_gen = y_ + int(noisy) * eps\n",
    "    return y_gen\n",
    "\n",
    "def timing(x, y, add_bias=True, noisy=False):\n",
    "    w, mu, sigma, err = compute_eps(x,y)\n",
    "    y_gen = generate(x, w, mu, sigma, add_bias=add_bias, noisy=noisy)\n",
    "    return y_gen"
   ]
  },
  {
   "cell_type": "markdown",
   "metadata": {},
   "source": [
    "### Feed the model with pitch and velocity"
   ]
  },
  {
   "cell_type": "code",
   "execution_count": 35,
   "metadata": {},
   "outputs": [
    {
     "name": "stdout",
     "output_type": "stream",
     "text": [
      "[68.20654616 62.31303255 62.06746949 62.31303255 67.71542003 67.2242939\n",
      " 66.97873083 66.4876047  59.36627575 65.99647856 65.75091549 65.25978936\n",
      " 65.99647856 65.75091549 65.25978936 67.2242939  66.4876047  59.36627575\n",
      " 65.25978936 66.4876047 ]\n",
      "[76, 53, 59, 61, 69, 72, 72, 71, 57, 71, 68, 68, 71, 67, 65, 71, 61, 74, 66, 67]\n"
     ]
    }
   ],
   "source": [
    "generated_velocities = timing(np.array(enharmonic_numbers), np.array(velocities))[:, 0]\n",
    "print(generated_velocities[:10])\n",
    "print(velocities[:10])"
   ]
  }
 ],
 "metadata": {
  "kernelspec": {
   "display_name": "adaexam",
   "language": "python",
   "name": "python3"
  },
  "language_info": {
   "codemirror_mode": {
    "name": "ipython",
    "version": 3
   },
   "file_extension": ".py",
   "mimetype": "text/x-python",
   "name": "python",
   "nbconvert_exporter": "python",
   "pygments_lexer": "ipython3",
   "version": "3.9.7"
  }
 },
 "nbformat": 4,
 "nbformat_minor": 2
}
